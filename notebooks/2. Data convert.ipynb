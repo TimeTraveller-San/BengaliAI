{
 "cells": [
  {
   "cell_type": "markdown",
   "metadata": {},
   "source": [
    "# Load current data"
   ]
  },
  {
   "cell_type": "code",
   "execution_count": null,
   "metadata": {},
   "outputs": [],
   "source": [
    "import pandas as pd\n",
    "import numpy as np\n",
    "import matplotlib.pyplot as plt\n",
    "!ls data/train/"
   ]
  },
  {
   "cell_type": "code",
   "execution_count": null,
   "metadata": {},
   "outputs": [],
   "source": [
    "TRAIN = [f\"data/train/train_image_data_{i}.parquet\" for i in range(4)]"
   ]
  },
  {
   "cell_type": "code",
   "execution_count": null,
   "metadata": {},
   "outputs": [],
   "source": [
    "train_0 = pd.read_parquet(TRAIN[0], engine='pyarrow')"
   ]
  },
  {
   "cell_type": "code",
   "execution_count": null,
   "metadata": {
    "scrolled": true
   },
   "outputs": [],
   "source": [
    "L, H = 100, 120\n",
    "for i in range(L, H):\n",
    "    img = train_0.iloc[i].values[1:].reshape(137, -1).astype('float')\n",
    "    plt.imshow(img, cmap='inferno_r')\n",
    "    plt.axis('off')\n",
    "    plt.show()\n",
    "img.shape"
   ]
  },
  {
   "cell_type": "markdown",
   "metadata": {},
   "source": [
    "Need to convert these images so that they're square and come at the center"
   ]
  },
  {
   "cell_type": "markdown",
   "metadata": {},
   "source": [
    "# The following piece of amazing code is provided by: https://www.kaggle.com/iafoss/image-preprocessing-128x128"
   ]
  },
  {
   "cell_type": "code",
   "execution_count": null,
   "metadata": {},
   "outputs": [],
   "source": [
    "import cv2\n",
    "from tqdm import tqdm_notebook as tqdm\n",
    "import zipfile\n",
    "import io\n",
    "import pandas as pd\n",
    "import numpy as np\n",
    "import matplotlib.pyplot as plt\n",
    "import warnings\n",
    "warnings.filterwarnings(\"ignore\")"
   ]
  },
  {
   "cell_type": "code",
   "execution_count": null,
   "metadata": {},
   "outputs": [],
   "source": [
    "HEIGHT = 137\n",
    "WIDTH = 236\n",
    "SIZE = 128"
   ]
  },
  {
   "cell_type": "code",
   "execution_count": null,
   "metadata": {},
   "outputs": [],
   "source": [
    "def bbox(img):\n",
    "    rows = np.any(img, axis=1)\n",
    "    cols = np.any(img, axis=0)\n",
    "    rmin, rmax = np.where(rows)[0][[0, -1]]\n",
    "    cmin, cmax = np.where(cols)[0][[0, -1]]\n",
    "    return rmin, rmax, cmin, cmax\n",
    "\n",
    "def crop_resize(img0, size=SIZE, pad=16):\n",
    "    #crop a box around pixels large than the threshold \n",
    "    #some images contain line at the sides\n",
    "    ymin,ymax,xmin,xmax = bbox(img0[5:-5,5:-5] > 80)\n",
    "    #cropping may cut too much, so we need to add it back\n",
    "    xmin = xmin - 13 if (xmin > 13) else 0\n",
    "    ymin = ymin - 10 if (ymin > 10) else 0\n",
    "    xmax = xmax + 13 if (xmax < WIDTH - 13) else WIDTH\n",
    "    ymax = ymax + 10 if (ymax < HEIGHT - 10) else HEIGHT\n",
    "    img = img0[ymin:ymax,xmin:xmax]\n",
    "    #remove lo intensity pixels as noise\n",
    "    img[img < 28] = 0\n",
    "    lx, ly = xmax-xmin,ymax-ymin\n",
    "    l = max(lx,ly) + pad\n",
    "    #make sure that the aspect ratio is kept in rescaling\n",
    "    img = np.pad(img, [((l-ly)//2,), ((l-lx)//2,)], mode='constant')\n",
    "    return cv2.resize(img,(size,size))"
   ]
  },
  {
   "cell_type": "code",
   "execution_count": null,
   "metadata": {
    "scrolled": true
   },
   "outputs": [],
   "source": [
    "df = pd.read_parquet(TRAIN[0])\n",
    "n_imgs = 8\n",
    "fig, axs = plt.subplots(n_imgs, 2, figsize=(10, 5*n_imgs))\n",
    "\n",
    "for idx in range(n_imgs):\n",
    "    #somehow the original input is inverted\n",
    "    img0 = 255 - df.iloc[idx, 1:].values.reshape(HEIGHT, WIDTH).astype(np.uint8)\n",
    "    #normalize each image by its max val\n",
    "    img = (img0*(255.0/img0.max())).astype(np.uint8)\n",
    "    img = crop_resize(img)\n",
    "\n",
    "    axs[idx,0].imshow(img0)\n",
    "    axs[idx,0].set_title('Original image')\n",
    "    axs[idx,0].axis('off')\n",
    "    axs[idx,1].imshow(img)\n",
    "    axs[idx,1].set_title('Crop & resize')\n",
    "    axs[idx,1].axis('off')\n",
    "plt.show()"
   ]
  },
  {
   "cell_type": "code",
   "execution_count": null,
   "metadata": {},
   "outputs": [],
   "source": [
    "TRAIN = [f\"data/train/train_image_data_{i}.parquet\" for i in range(4)]\n",
    "output = \"data/train_128/\"\n",
    "train_df = pd.read_csv('data/train.csv')\n",
    "\n",
    "for fname in TRAIN:\n",
    "        df = pd.read_parquet(fname)\n",
    "        #the input is inverted\n",
    "        data = 255 - df.iloc[:, 1:].values.reshape(-1, HEIGHT, WIDTH).astype(np.uint8)\n",
    "        for idx in tqdm(range(len(df))):\n",
    "            name = df.iloc[idx,0]\n",
    "            l1, l2, l3 = train_df[train_df.image_id==name].iloc[0, 1:4]\n",
    "            outfname = f\"{name}-{l1}-{l2}-{l3}\"\n",
    "            #normalize each image by its max val\n",
    "            img = (data[idx]*(255.0/data[idx].max())).astype(np.uint8)\n",
    "            img = crop_resize(img)\n",
    "            np.save(f'{output}{outfname}', img)\n"
   ]
  },
  {
   "cell_type": "code",
   "execution_count": null,
   "metadata": {},
   "outputs": [],
   "source": [
    "TEST = [f\"data/test/test_image_data_{i}.parquet\" for i in range(4)]\n",
    "output = \"data/test_128/\"\n",
    "\n",
    "for fname in TEST:\n",
    "        df = pd.read_parquet(fname)\n",
    "        #the input is inverted\n",
    "        data = 255 - df.iloc[:, 1:].values.reshape(-1, HEIGHT, WIDTH).astype(np.uint8)\n",
    "        for idx in tqdm(range(len(df))):\n",
    "            name = df.iloc[idx,0]\n",
    "            #normalize each image by its max val\n",
    "            img = (data[idx]*(255.0/data[idx].max())).astype(np.uint8)\n",
    "            img = crop_resize(img)\n",
    "            np.save(f'{output}{name}.png', img)"
   ]
  },
  {
   "cell_type": "code",
   "execution_count": null,
   "metadata": {},
   "outputs": [],
   "source": [
    "df"
   ]
  },
  {
   "cell_type": "code",
   "execution_count": null,
   "metadata": {},
   "outputs": [],
   "source": []
  }
 ],
 "metadata": {
  "kernelspec": {
   "display_name": "Python 3",
   "language": "python",
   "name": "python3"
  },
  "language_info": {
   "codemirror_mode": {
    "name": "ipython",
    "version": 3
   },
   "file_extension": ".py",
   "mimetype": "text/x-python",
   "name": "python",
   "nbconvert_exporter": "python",
   "pygments_lexer": "ipython3",
   "version": "3.7.3"
  }
 },
 "nbformat": 4,
 "nbformat_minor": 2
}
