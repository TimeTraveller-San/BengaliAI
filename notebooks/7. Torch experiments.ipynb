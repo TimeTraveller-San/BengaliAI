{
 "cells": [
  {
   "cell_type": "code",
   "execution_count": 1,
   "metadata": {},
   "outputs": [],
   "source": [
    "import torch.nn.functional as F\n",
    "import torch.nn as nn\n",
    "import torch\n",
    "\n",
    "from torch.nn.parameter import Parameter\n",
    "def gem(x, p=3, eps=1e-6):\n",
    "    return F.avg_pool2d(x.clamp(min=eps).pow(p), (x.size(-2), x.size(-1))).pow(1./p)\n",
    "\n",
    "class GeM(nn.Module):\n",
    "    def __init__(self, p=3, eps=1e-6):\n",
    "        super(GeM,self).__init__()\n",
    "        self.p = Parameter(torch.ones(1)*p)\n",
    "        self.eps = eps\n",
    "        \n",
    "    def forward(self, x):\n",
    "        return gem(x, p=self.p, eps=self.eps)   \n",
    "    \n",
    "    def __repr__(self):\n",
    "        return self.__class__.__name__ + '(' + 'p=' + '{:.4f}'.format(self.p.data.tolist()[0]) + ', ' + 'eps=' + str(self.eps) + ')'"
   ]
  },
  {
   "cell_type": "code",
   "execution_count": 34,
   "metadata": {},
   "outputs": [
    {
     "name": "stdout",
     "output_type": "stream",
     "text": [
      "torch.Size([1, 1])\n"
     ]
    }
   ],
   "source": [
    "x = torch.ones([8, 2048, 4, 4]) \n",
    "pool = torch.nn.AdaptiveAvgPool2d(1)\n",
    "x = pool(x).view(-1, 16384)\n",
    "lin = nn.Linear(16384, 1)\n",
    "x = lin(x)\n",
    "print(x.shape)"
   ]
  },
  {
   "cell_type": "code",
   "execution_count": 41,
   "metadata": {},
   "outputs": [
    {
     "name": "stdout",
     "output_type": "stream",
     "text": [
      "torch.Size([8, 2048, 1, 1])\n",
      "CPU times: user 1.82 ms, sys: 0 ns, total: 1.82 ms\n",
      "Wall time: 1.79 ms\n"
     ]
    }
   ],
   "source": [
    "%%time\n",
    "x = torch.ones([8, 2048, 4, 4]) \n",
    "pool = torch.nn.AdaptiveAvgPool2d(1)\n",
    "x = pool(x)\n",
    "print(x.shape)"
   ]
  },
  {
   "cell_type": "code",
   "execution_count": 42,
   "metadata": {},
   "outputs": [
    {
     "name": "stdout",
     "output_type": "stream",
     "text": [
      "torch.Size([8, 2048, 1, 1])\n",
      "CPU times: user 2.34 ms, sys: 0 ns, total: 2.34 ms\n",
      "Wall time: 1.8 ms\n"
     ]
    }
   ],
   "source": [
    "%%time\n",
    "x = torch.ones([8, 2048, 4, 4]) \n",
    "pool = GeM()\n",
    "x = pool(x)\n",
    "print(x.shape)"
   ]
  },
  {
   "cell_type": "code",
   "execution_count": null,
   "metadata": {},
   "outputs": [],
   "source": [
    "conv\n",
    "batch\n",
    "mish \n",
    "pool"
   ]
  },
  {
   "cell_type": "code",
   "execution_count": 69,
   "metadata": {},
   "outputs": [
    {
     "name": "stdout",
     "output_type": "stream",
     "text": [
      "torch.Size([8, 2048])\n",
      "CPU times: user 580 ms, sys: 62.5 ms, total: 643 ms\n",
      "Wall time: 428 ms\n"
     ]
    }
   ],
   "source": [
    "%%time\n",
    "fc1 = nn.Conv2d(2048, 2048, 4)\n",
    "bn = nn.BatchNorm2d(2048)\n",
    "relu = nn.ReLU()\n",
    "pool = GeM()\n",
    "\n",
    "\n",
    "x = torch.ones([8, 2048, 4, 4]) \n",
    "x = fc1(x)\n",
    "x = relu(x)\n",
    "x = bn(x)\n",
    "x = pool(x)\n",
    "x = x.view(8, -1)\n",
    "lin = nn.Linear(2048, 168)\n",
    "print(x.shape)"
   ]
  },
  {
   "cell_type": "code",
   "execution_count": 4,
   "metadata": {},
   "outputs": [
    {
     "name": "stdout",
     "output_type": "stream",
     "text": [
      "torch.Size([8, 1024])\n",
      "CPU times: user 291 ms, sys: 29.4 ms, total: 321 ms\n",
      "Wall time: 215 ms\n"
     ]
    }
   ],
   "source": [
    "%%time\n",
    "fc1 = nn.Conv2d(2048, 1024, 4)\n",
    "bn = nn.BatchNorm2d(1024)\n",
    "relu = nn.ReLU()\n",
    "pool = GeM()\n",
    "\n",
    "\n",
    "x = torch.ones([8, 2048, 4, 4]) \n",
    "x = fc1(x)\n",
    "x = bn(x)\n",
    "x = relu(x)\n",
    "x = pool(x)\n",
    "x = x.view(8, -1)\n",
    "lin = nn.Linear(2048, 168)\n",
    "print(x.shape)"
   ]
  },
  {
   "cell_type": "markdown",
   "metadata": {},
   "source": []
  }
 ],
 "metadata": {
  "kernelspec": {
   "display_name": "Python 3",
   "language": "python",
   "name": "python3"
  },
  "language_info": {
   "codemirror_mode": {
    "name": "ipython",
    "version": 3
   },
   "file_extension": ".py",
   "mimetype": "text/x-python",
   "name": "python",
   "nbconvert_exporter": "python",
   "pygments_lexer": "ipython3",
   "version": "3.7.3"
  }
 },
 "nbformat": 4,
 "nbformat_minor": 2
}
