{
 "cells": [
  {
   "cell_type": "code",
   "execution_count": 1,
   "metadata": {},
   "outputs": [],
   "source": [
    "import pandas as pd\n",
    "import numpy as np\n",
    "import matplotlib.pyplot as plt\n",
    "import cv2\n",
    "from tqdm import tqdm_notebook as tqdm\n",
    "import zipfile\n",
    "import io\n",
    "import pandas as pd\n",
    "import numpy as np\n",
    "import matplotlib.pyplot as plt\n",
    "import warnings\n",
    "import gc"
   ]
  },
  {
   "cell_type": "code",
   "execution_count": 2,
   "metadata": {},
   "outputs": [],
   "source": [
    "HEIGHT = 137\n",
    "WIDTH = 236\n",
    "SIZE = 128\n",
    "\n",
    "def bbox(img):\n",
    "    rows = np.any(img, axis=1)\n",
    "    cols = np.any(img, axis=0)\n",
    "    rmin, rmax = np.where(rows)[0][[0, -1]]\n",
    "    cmin, cmax = np.where(cols)[0][[0, -1]]\n",
    "    return rmin, rmax, cmin, cmax\n",
    "\n",
    "def crop_resize(img0, size=SIZE, pad=0, thresh=80):\n",
    "    #crop a box around pixels large than the threshold \n",
    "    #some images contain line at the sides\n",
    "    ymin,ymax,xmin,xmax = bbox(img0[5:-5,5:-5] > thresh)\n",
    "    #cropping may cut too much, so we need to add it back\n",
    "    xmin = xmin - 13 if (xmin > 13) else 0\n",
    "    ymin = ymin - 10 if (ymin > 10) else 0\n",
    "    xmax = xmax + 13 if (xmax < WIDTH - 13) else WIDTH\n",
    "    ymax = ymax + 10 if (ymax < HEIGHT - 10) else HEIGHT\n",
    "    img = img0[ymin:ymax,xmin:xmax]\n",
    "    #remove lo intensity pixels as noise\n",
    "#     img[img < 28] = 0\n",
    "    lx, ly = xmax-xmin,ymax-ymin\n",
    "    l = max(lx,ly) + pad\n",
    "    #make sure that the aspect ratio is kept in rescaling\n",
    "    img = np.pad(img, [((l-ly)//2,), ((l-lx)//2,)], mode='constant')\n",
    "    return cv2.resize(img,(size,size))\n",
    "\n"
   ]
  },
  {
   "cell_type": "code",
   "execution_count": 3,
   "metadata": {},
   "outputs": [],
   "source": [
    "PATH = \"/home/timetraveller/Entertainment/BengaliAI_Data/\"\n",
    "TRAIN = [f\"{PATH}train_image_data_{i}.parquet\" for i in range(4)]"
   ]
  },
  {
   "cell_type": "code",
   "execution_count": null,
   "metadata": {
    "scrolled": true
   },
   "outputs": [],
   "source": [
    "L, H = 100, 120\n",
    "train_0 = pd.read_parquet(TRAIN[0])\n",
    "for i in range(L, H):\n",
    "    img = train_0.iloc[i].values[1:].reshape(137, -1).astype('float')\n",
    "    plt.imshow(img, cmap='inferno_r')\n",
    "    plt.axis('off')\n",
    "    plt.show()\n",
    "img.shape"
   ]
  },
  {
   "cell_type": "code",
   "execution_count": null,
   "metadata": {
    "scrolled": true
   },
   "outputs": [],
   "source": [
    "n_imgs = 8\n",
    "fig, axs = plt.subplots(n_imgs, 2, figsize=(10, 5*n_imgs))\n",
    "\n",
    "for idx in range(n_imgs):\n",
    "    #somehow the original input is inverted\n",
    "    img0 = 255 - train_0.iloc[idx, 1:].values.reshape(HEIGHT, WIDTH).astype(np.uint8)\n",
    "    #normalize each image by its max val\n",
    "    img = (img0*(255.0/img0.max())).astype(np.uint8)\n",
    "    img = crop_resize(img)\n",
    "\n",
    "    axs[idx,0].imshow(img0)\n",
    "    axs[idx,0].set_title('Original image')\n",
    "    axs[idx,0].axis('off')\n",
    "    axs[idx,1].imshow(img)\n",
    "    axs[idx,1].set_title('Crop & resize')\n",
    "    axs[idx,1].axis('off')\n",
    "plt.show()\n",
    "\n"
   ]
  },
  {
   "cell_type": "markdown",
   "metadata": {},
   "source": [
    "# Make data"
   ]
  },
  {
   "cell_type": "code",
   "execution_count": 4,
   "metadata": {},
   "outputs": [
    {
     "name": "stdout",
     "output_type": "stream",
     "text": [
      "Reading: /home/timetraveller/Entertainment/BengaliAI_Data/train_image_data_3.parquet\n"
     ]
    },
    {
     "data": {
      "application/vnd.jupyter.widget-view+json": {
       "model_id": "9bd5b9c6133043f5af818ac1b77f194c",
       "version_major": 2,
       "version_minor": 0
      },
      "text/plain": [
       "HBox(children=(IntProgress(value=0, max=50210), HTML(value='')))"
      ]
     },
     "metadata": {},
     "output_type": "display_data"
    },
    {
     "name": "stdout",
     "output_type": "stream",
     "text": [
      "\n",
      "Saved /home/timetraveller/Entertainment/BengaliAI_Data/train_128/train_3.feather\n"
     ]
    }
   ],
   "source": [
    "size = 128\n",
    "HEIGHT = 137\n",
    "WIDTH = 236\n",
    "SIZE = 128\n",
    "\n",
    "index = ['image_id'] + [str(i) for i in range(size*size)]\n",
    "\n",
    "\n",
    "for k, file in enumerate(TRAIN):\n",
    "    if k <= 2:\n",
    "        continue\n",
    "    print(f\"Reading: {file}\")    \n",
    "    df = pd.read_parquet(file)\n",
    "    data = 255 - df.iloc[:, 1:].values.reshape(-1, HEIGHT, WIDTH).astype(np.uint8)\n",
    "    out = pd.DataFrame()\n",
    "    names = []\n",
    "    outdata = {}\n",
    "    for idx in tqdm(range(len(df))):\n",
    "                name = df.iloc[idx,0]\n",
    "                img = (data[idx]*(255.0/data[idx].max())).astype(np.uint8)\n",
    "                img = crop_resize(img).flatten()\n",
    "                img = pd.Series(img, index=index[1:])\n",
    "                outdata[name] = img\n",
    "\n",
    "    out = pd.DataFrame(outdata).T\n",
    "    del outdata\n",
    "    out.reset_index(inplace=True)\n",
    "    out.columns = ['image_id' if x=='index' else x for x in out.columns]\n",
    "    out = out[index]\n",
    "    outfname = f'{PATH}train_128/train_{k}.feather'\n",
    "    out.to_feather(outfname)\n",
    "    print(f\"Saved {outfname}\")    \n",
    "    del out\n",
    "    gc.collect()"
   ]
  }
 ],
 "metadata": {
  "kernelspec": {
   "display_name": "Python 3",
   "language": "python",
   "name": "python3"
  },
  "language_info": {
   "codemirror_mode": {
    "name": "ipython",
    "version": 3
   },
   "file_extension": ".py",
   "mimetype": "text/x-python",
   "name": "python",
   "nbconvert_exporter": "python",
   "pygments_lexer": "ipython3",
   "version": "3.7.3"
  }
 },
 "nbformat": 4,
 "nbformat_minor": 2
}
