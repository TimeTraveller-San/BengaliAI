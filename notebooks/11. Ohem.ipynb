{
 "cells": [
  {
   "cell_type": "code",
   "execution_count": 1,
   "metadata": {},
   "outputs": [],
   "source": [
    "import torch\n",
    "from torch import nn\n",
    "from torch import optim\n",
    "import torch.nn.functional as F"
   ]
  },
  {
   "cell_type": "code",
   "execution_count": 21,
   "metadata": {},
   "outputs": [
    {
     "data": {
      "text/plain": [
       "tensor([3.0139, 2.4521, 3.0422, 2.7947, 0.8927, 2.2053, 1.7933, 3.2633, 2.6489,\n",
       "        1.7897, 0.7953, 1.7800, 1.3860, 3.2545, 2.4027, 2.4854, 1.2402, 1.6271,\n",
       "        0.9765, 0.8184, 1.9937, 3.0945, 2.9133, 2.6805, 0.3567, 2.3731, 2.1684,\n",
       "        3.8884, 3.2570, 0.2657, 2.0295, 0.9012, 2.9137, 2.3078, 3.4125, 2.6207,\n",
       "        2.1166, 1.8392, 2.9195, 3.2540, 0.9819, 1.2179, 2.0531, 1.3630, 3.1524,\n",
       "        0.9563, 2.8516, 3.7944, 2.7294, 0.6805, 2.9446, 1.8910, 2.6851, 0.6801,\n",
       "        1.2089, 3.4028, 2.6968, 3.4502, 0.7941, 1.1495, 1.7279, 2.5057, 0.9738,\n",
       "        1.5623], grad_fn=<NllLossBackward>)"
      ]
     },
     "execution_count": 21,
     "metadata": {},
     "output_type": "execute_result"
    }
   ],
   "source": [
    "bs = 64\n",
    "input = torch.randn(bs, 5, requires_grad=True)\n",
    "target = torch.randint(5, (bs,), dtype=torch.int64)\n",
    "criterion = torch.nn.CrossEntropyLoss(reduction='none', ignore_index=-1)\n",
    "loss = criterion(input, target)\n",
    "loss"
   ]
  },
  {
   "cell_type": "code",
   "execution_count": 13,
   "metadata": {},
   "outputs": [
    {
     "data": {
      "text/plain": [
       "tensor(2.9593, grad_fn=<DivBackward0>)"
      ]
     },
     "execution_count": 13,
     "metadata": {},
     "output_type": "execute_result"
    }
   ],
   "source": [
    "rate = 0.3\n",
    "sorted_loss, idx = torch.sort(loss, descending=True)\n",
    "keep_num = min(sorted_loss.size()[0], int(bs*rate) )\n",
    "\n",
    "if keep_num < sorted_loss.size()[0]:\n",
    "        keep_idx_cuda = idx[:keep_num]\n",
    "        loss = loss[keep_idx_cuda]\n",
    "cls_loss = loss.sum() / keep_num\n",
    "cls_loss    "
   ]
  },
  {
   "cell_type": "code",
   "execution_count": 15,
   "metadata": {},
   "outputs": [
    {
     "data": {
      "text/plain": [
       "tensor([3.9832, 3.8941, 3.8065, 3.5714, 3.2630, 3.2582, 2.9631, 2.9512, 2.9457,\n",
       "        2.8237, 2.7523, 2.7468, 2.5807, 2.5265, 2.5013, 2.4526, 2.4211, 2.4092,\n",
       "        2.3759], grad_fn=<IndexBackward>)"
      ]
     },
     "execution_count": 15,
     "metadata": {},
     "output_type": "execute_result"
    }
   ],
   "source": [
    "loss"
   ]
  },
  {
   "cell_type": "code",
   "execution_count": null,
   "metadata": {},
   "outputs": [],
   "source": []
  }
 ],
 "metadata": {
  "kernelspec": {
   "display_name": "Python 3",
   "language": "python",
   "name": "python3"
  },
  "language_info": {
   "codemirror_mode": {
    "name": "ipython",
    "version": 3
   },
   "file_extension": ".py",
   "mimetype": "text/x-python",
   "name": "python",
   "nbconvert_exporter": "python",
   "pygments_lexer": "ipython3",
   "version": "3.7.3"
  }
 },
 "nbformat": 4,
 "nbformat_minor": 2
}
