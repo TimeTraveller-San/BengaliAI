{
 "cells": [
  {
   "cell_type": "code",
   "execution_count": 3,
   "metadata": {},
   "outputs": [],
   "source": [
    "import sys\n",
    "sys.path.append(\"..\") # Adds higher directory to python modules path\n",
    "from loaddata import BengaliAI, load_df\n",
    "import pandas as pd\n",
    "import numpy as np\n",
    "import matplotlib.pyplot as plt\n",
    "from tqdm import tqdm\n",
    "from torch.utils.data import Dataset, DataLoader"
   ]
  },
  {
   "cell_type": "code",
   "execution_count": 5,
   "metadata": {},
   "outputs": [],
   "source": [
    "import cv2\n",
    "import matplotlib.pyplot as plt\n",
    "import numpy as np\n",
    "import random\n",
    "\n",
    "def sprinkles(img, size, perc, style='black'):\n",
    "    \"\"\"Produces 'sprinkles' image augmentation on input\n",
    "    see: https://medium.com/@lessw/progressive-sprinkles-a-new-data-augmentation-for-cnns-and-helps-achieve-new-98-nih-malaria-6056965f671a\n",
    "    \n",
    "    Parameters\n",
    "    ----------\n",
    "    x = np.array of input image\n",
    "    size = int specifying sprinkle width and height in pixels\n",
    "    perc = approximate (sprinkles can overlap) percentage of image to occlude\n",
    "    style = string, option of ['black', 'frosted', 'mean'] for style of sprinkle\n",
    "    \"\"\"\n",
    "    x = img.copy()\n",
    "    number_of_pixels_to_frost = perc * np.ceil((x.shape[0] * x.shape[0]))\n",
    "    number_of_sprinkles = int(np.ceil(number_of_pixels_to_frost / (size * size)))\n",
    "    # TODO need to handle RGB channels - multiple arrays\n",
    "    for sprinkle in range(0, number_of_sprinkles):\n",
    "        # set boundaries to preven out of index errors\n",
    "        options = range((size), (x.shape[0] - size))\n",
    "        # get random index position\n",
    "        row = np.random.choice(options, replace=False)\n",
    "        col = np.random.choice(options, replace=False)\n",
    "        # change initial pixel value\n",
    "        x[row, col] = np.random.randint(0, 255)\n",
    "        # randomly determine fill direction\n",
    "        horizontal_fill_direction = np.random.choice([\"left\", \"right\"])\n",
    "        vertical_fill_direction = np.random.choice([\"up\", \"down\"])\n",
    "        if style == 'mean':\n",
    "            mean = cv2.mean(x)\n",
    "        # replace pixel values\n",
    "        if (horizontal_fill_direction == \"left\") & (vertical_fill_direction == \"up\"):\n",
    "            for i in (range(0, (size - 1))):\n",
    "                for j in (range(0, (size - 1))):\n",
    "                    for c in [0, 1, 2]:\n",
    "                        if style == 'frosted':\n",
    "                            x[(row - j), (col - i)][c] = np.random.randint(0, 255)\n",
    "                        elif style == 'mean':\n",
    "                            x[(row - j), (col - i)][c] = mean[c]\n",
    "                        else:\n",
    "                            x[(row - j), (col - i)] = 0\n",
    "        elif (horizontal_fill_direction == \"left\") & (vertical_fill_direction == \"down\"):\n",
    "            for i in (range(0, (size-1))):\n",
    "                for j in (range(0, (size-1))):\n",
    "                    for c in [0, 1, 2]:\n",
    "                        if style == 'frosted':\n",
    "                            x[(row - j), (col + i)][c] = np.random.randint(0, 255)\n",
    "                        elif style == 'mean':\n",
    "                            x[(row - j), (col - i)][c] = mean[c]\n",
    "                        else:\n",
    "                            x[(row - j), (col + i)] = 0\n",
    "        elif (horizontal_fill_direction == \"right\") & (vertical_fill_direction == \"up\"):\n",
    "            for i in (range(0, (size-1))):\n",
    "                for j in (range(0, (size-1))):\n",
    "                    for c in [0, 1, 2]:\n",
    "                        if style == 'frosted':\n",
    "                            x[(row + j), (col - i)][c] = np.random.randint(0, 255)\n",
    "                        elif style == 'mean':\n",
    "                            x[(row - j), (col - i)][c] = mean[c]\n",
    "                        else:\n",
    "                            x[(row + j), (col - i)] = 0\n",
    "        elif (horizontal_fill_direction == \"right\") & (vertical_fill_direction == \"down\"):\n",
    "            for i in (range(0, (size-1))):\n",
    "                for j in (range(0, (size-1))):\n",
    "                    for c in [0, 1, 2]:\n",
    "                        if style == 'frosted':\n",
    "                            x[(row - j), (col - i)][c] = np.random.randint(0, 255)\n",
    "                        elif style == 'mean':\n",
    "                            x[(row - j), (col - i)][c] = mean[c]\n",
    "                        else:\n",
    "                            x[(row - j), (col - i)] = 0\n",
    "    return np.array(x)"
   ]
  },
  {
   "cell_type": "code",
   "execution_count": 6,
   "metadata": {},
   "outputs": [
    {
     "name": "stdout",
     "output_type": "stream",
     "text": [
      "(50210, 16389)\n"
     ]
    }
   ],
   "source": [
    "df, _ = load_df(True, root='../data')\n",
    "dataset = BengaliAI(df[:10000])\n",
    "dataloader = DataLoader(dataset, batch_size=32)"
   ]
  },
  {
   "cell_type": "code",
   "execution_count": 11,
   "metadata": {},
   "outputs": [
    {
     "name": "stdout",
     "output_type": "stream",
     "text": [
      "torch.Size([1, 128, 128])\n"
     ]
    },
    {
     "ename": "AttributeError",
     "evalue": "'Tensor' object has no attribute 'copy'",
     "output_type": "error",
     "traceback": [
      "\u001b[0;31m---------------------------------------------------------------------------\u001b[0m",
      "\u001b[0;31mAttributeError\u001b[0m                            Traceback (most recent call last)",
      "\u001b[0;32m<ipython-input-11-7abe72ee487b>\u001b[0m in \u001b[0;36m<module>\u001b[0;34m\u001b[0m\n\u001b[1;32m      2\u001b[0m     \u001b[0mprint\u001b[0m\u001b[0;34m(\u001b[0m\u001b[0mimg\u001b[0m\u001b[0;34m.\u001b[0m\u001b[0mshape\u001b[0m\u001b[0;34m)\u001b[0m\u001b[0;34m\u001b[0m\u001b[0;34m\u001b[0m\u001b[0m\n\u001b[1;32m      3\u001b[0m     \u001b[0mplt\u001b[0m\u001b[0;34m.\u001b[0m\u001b[0mimshow\u001b[0m\u001b[0;34m(\u001b[0m\u001b[0mimg\u001b[0m\u001b[0;34m.\u001b[0m\u001b[0mview\u001b[0m\u001b[0;34m(\u001b[0m\u001b[0;34m-\u001b[0m\u001b[0;36m1\u001b[0m\u001b[0;34m,\u001b[0m \u001b[0;36m128\u001b[0m\u001b[0;34m)\u001b[0m\u001b[0;34m)\u001b[0m\u001b[0;34m\u001b[0m\u001b[0;34m\u001b[0m\u001b[0m\n\u001b[0;32m----> 4\u001b[0;31m     \u001b[0mplt\u001b[0m\u001b[0;34m.\u001b[0m\u001b[0mimshow\u001b[0m\u001b[0;34m(\u001b[0m\u001b[0msprinkles\u001b[0m\u001b[0;34m(\u001b[0m\u001b[0mimg\u001b[0m\u001b[0;34m.\u001b[0m\u001b[0mview\u001b[0m\u001b[0;34m(\u001b[0m\u001b[0;34m-\u001b[0m\u001b[0;36m1\u001b[0m\u001b[0;34m,\u001b[0m \u001b[0;36m128\u001b[0m\u001b[0;34m)\u001b[0m\u001b[0;34m,\u001b[0m \u001b[0msize\u001b[0m\u001b[0;34m=\u001b[0m\u001b[0;36m5\u001b[0m\u001b[0;34m,\u001b[0m \u001b[0mperc\u001b[0m\u001b[0;34m=\u001b[0m\u001b[0;36m0.1\u001b[0m\u001b[0;34m)\u001b[0m\u001b[0;34m)\u001b[0m\u001b[0;34m\u001b[0m\u001b[0;34m\u001b[0m\u001b[0m\n\u001b[0m\u001b[1;32m      5\u001b[0m     \u001b[0;32mbreak\u001b[0m\u001b[0;34m\u001b[0m\u001b[0;34m\u001b[0m\u001b[0m\n",
      "\u001b[0;32m<ipython-input-5-d774b19594ea>\u001b[0m in \u001b[0;36msprinkles\u001b[0;34m(img, size, perc, style)\u001b[0m\n\u001b[1;32m     15\u001b[0m     \u001b[0mstyle\u001b[0m \u001b[0;34m=\u001b[0m \u001b[0mstring\u001b[0m\u001b[0;34m,\u001b[0m \u001b[0moption\u001b[0m \u001b[0mof\u001b[0m \u001b[0;34m[\u001b[0m\u001b[0;34m'black'\u001b[0m\u001b[0;34m,\u001b[0m \u001b[0;34m'frosted'\u001b[0m\u001b[0;34m,\u001b[0m \u001b[0;34m'mean'\u001b[0m\u001b[0;34m]\u001b[0m \u001b[0;32mfor\u001b[0m \u001b[0mstyle\u001b[0m \u001b[0mof\u001b[0m \u001b[0msprinkle\u001b[0m\u001b[0;34m\u001b[0m\u001b[0;34m\u001b[0m\u001b[0m\n\u001b[1;32m     16\u001b[0m     \"\"\"\n\u001b[0;32m---> 17\u001b[0;31m     \u001b[0mx\u001b[0m \u001b[0;34m=\u001b[0m \u001b[0mimg\u001b[0m\u001b[0;34m.\u001b[0m\u001b[0mcopy\u001b[0m\u001b[0;34m(\u001b[0m\u001b[0;34m)\u001b[0m\u001b[0;34m\u001b[0m\u001b[0;34m\u001b[0m\u001b[0m\n\u001b[0m\u001b[1;32m     18\u001b[0m     \u001b[0mnumber_of_pixels_to_frost\u001b[0m \u001b[0;34m=\u001b[0m \u001b[0mperc\u001b[0m \u001b[0;34m*\u001b[0m \u001b[0mnp\u001b[0m\u001b[0;34m.\u001b[0m\u001b[0mceil\u001b[0m\u001b[0;34m(\u001b[0m\u001b[0;34m(\u001b[0m\u001b[0mx\u001b[0m\u001b[0;34m.\u001b[0m\u001b[0mshape\u001b[0m\u001b[0;34m[\u001b[0m\u001b[0;36m0\u001b[0m\u001b[0;34m]\u001b[0m \u001b[0;34m*\u001b[0m \u001b[0mx\u001b[0m\u001b[0;34m.\u001b[0m\u001b[0mshape\u001b[0m\u001b[0;34m[\u001b[0m\u001b[0;36m0\u001b[0m\u001b[0;34m]\u001b[0m\u001b[0;34m)\u001b[0m\u001b[0;34m)\u001b[0m\u001b[0;34m\u001b[0m\u001b[0;34m\u001b[0m\u001b[0m\n\u001b[1;32m     19\u001b[0m     \u001b[0mnumber_of_sprinkles\u001b[0m \u001b[0;34m=\u001b[0m \u001b[0mint\u001b[0m\u001b[0;34m(\u001b[0m\u001b[0mnp\u001b[0m\u001b[0;34m.\u001b[0m\u001b[0mceil\u001b[0m\u001b[0;34m(\u001b[0m\u001b[0mnumber_of_pixels_to_frost\u001b[0m \u001b[0;34m/\u001b[0m \u001b[0;34m(\u001b[0m\u001b[0msize\u001b[0m \u001b[0;34m*\u001b[0m \u001b[0msize\u001b[0m\u001b[0;34m)\u001b[0m\u001b[0;34m)\u001b[0m\u001b[0;34m)\u001b[0m\u001b[0;34m\u001b[0m\u001b[0;34m\u001b[0m\u001b[0m\n",
      "\u001b[0;31mAttributeError\u001b[0m: 'Tensor' object has no attribute 'copy'"
     ]
    },
    {
     "data": {
      "image/png": "[encoded data removed]",
      "text/plain": [
       "<Figure size 432x288 with 1 Axes>"
      ]
     },
     "metadata": {
      "needs_background": "light"
     },
     "output_type": "display_data"
    }
   ],
   "source": [
    "for (img, l) in dataset:\n",
    "    print(img.shape)\n",
    "    plt.imshow(img.view(-1, 128))\n",
    "    plt.imshow(sprinkles(img.view(-1, 128), size=5, perc=0.1))\n",
    "    break"
   ]
  },
  {
   "cell_type": "code",
   "execution_count": null,
   "metadata": {},
   "outputs": [],
   "source": []
  }
 ],
 "metadata": {
  "kernelspec": {
   "display_name": "Python 3",
   "language": "python",
   "name": "python3"
  },
  "language_info": {
   "codemirror_mode": {
    "name": "ipython",
    "version": 3
   },
   "file_extension": ".py",
   "mimetype": "text/x-python",
   "name": "python",
   "nbconvert_exporter": "python",
   "pygments_lexer": "ipython3",
   "version": "3.7.3"
  }
 },
 "nbformat": 4,
 "nbformat_minor": 2
}
